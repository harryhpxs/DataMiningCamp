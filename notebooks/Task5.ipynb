{
 "cells": [
  {
   "cell_type": "markdown",
   "metadata": {},
   "source": [
    "### 任务2 - 特征工程\n",
    "- 特征衍生\n",
    "- 特征挑选：分别用IV值和随机森林等进行特征选择"
   ]
  },
  {
   "cell_type": "code",
   "execution_count": 1,
   "metadata": {},
   "outputs": [
    {
     "name": "stdout",
     "output_type": "stream",
     "text": [
      "(4754, 85)\n"
     ]
    }
   ],
   "source": [
    "import warnings\n",
    "warnings.filterwarnings('ignore')\n",
    "\n",
    "import pandas as pd\n",
    "import numpy as np\n",
    "pd.set_option('display.max_columns', 100)\n",
    "\n",
    "# From Task 1 数据清洗\n",
    "df = pd.read_csv('data.csv', encoding = 'GBK')\n",
    "df = df.drop(['Unnamed: 0', 'custid', 'trade_no', 'bank_card_no', 'id_name'],axis = 1)\n",
    "df = df.fillna(0)\n",
    "df['latest_query_time'] = pd.to_datetime(df['latest_query_time'], format='%Y-%m-%d')\n",
    "df['loans_latest_time'] = pd.to_datetime(df['loans_latest_time'], format='%Y-%m-%d')\n",
    "d_city = {0:0, '一线城市':5, '三线城市':4, '二线城市':3, '其他城市':2, '境外':1}\n",
    "df['reg_preference_for_trad'] = df['reg_preference_for_trad'].map(d_city)\n",
    "\n",
    "print(df.shape)"
   ]
  },
  {
   "cell_type": "markdown",
   "metadata": {},
   "source": [
    "#### 分箱+IV"
   ]
  },
  {
   "cell_type": "code",
   "execution_count": 2,
   "metadata": {},
   "outputs": [],
   "source": [
    "# Ref:\n",
    "# https://medium.com/@sundarstyles89/weight-of-evidence-and-information-value-using-python-6f05072e83eb\n",
    "# https://nbviewer.jupyter.org/github/Sundar0989/WOE-and-IV/blob/master/WOE_IV.ipynb\n",
    "\n",
    "import pandas.core.algorithms as algos\n",
    "from pandas import Series\n",
    "import scipy.stats.stats as stats\n",
    "import re\n",
    "import traceback\n",
    "import string\n",
    "\n",
    "max_bin = 10\n",
    "force_bin = 3\n",
    "\n",
    "# Bining for numeric variables\n",
    "def mono_bin(Y, X, n = max_bin):\n",
    "    \n",
    "    df1 = pd.DataFrame({\"X\": X, \"Y\": Y})\n",
    "    justmiss = df1[['X','Y']][df1.X.isnull()]\n",
    "    notmiss = df1[['X','Y']][df1.X.notnull()]\n",
    "    r = 0\n",
    "    while np.abs(r) < 1:\n",
    "        try:\n",
    "            d1 = pd.DataFrame({\"X\": notmiss.X, \"Y\": notmiss.Y, \"Bucket\": pd.qcut(notmiss.X, n)})\n",
    "            d2 = d1.groupby('Bucket', as_index=True)\n",
    "            r, p = stats.spearmanr(d2.mean().X, d2.mean().Y)\n",
    "            n = n - 1 \n",
    "        except Exception as e:\n",
    "            n = n - 1\n",
    "\n",
    "    if len(d2) == 1:\n",
    "        n = force_bin         \n",
    "        bins = algos.quantile(notmiss.X, np.linspace(0, 1, n))\n",
    "        if len(np.unique(bins)) == 2:\n",
    "            bins = np.insert(bins, 0, 1)\n",
    "            bins[1] = bins[1]-(bins[1]/2)\n",
    "        d1 = pd.DataFrame({\"X\": notmiss.X, \"Y\": notmiss.Y, \"Bucket\": pd.cut(notmiss.X, np.unique(bins),include_lowest=True)}) \n",
    "        d2 = d1.groupby('Bucket', as_index=True)\n",
    "    \n",
    "    d3 = pd.DataFrame({},index=[])\n",
    "    d3[\"MIN_VALUE\"] = d2.min().X\n",
    "    d3[\"MAX_VALUE\"] = d2.max().X\n",
    "    d3[\"COUNT\"] = d2.count().Y\n",
    "    d3[\"EVENT\"] = d2.sum().Y\n",
    "    d3[\"NONEVENT\"] = d2.count().Y - d2.sum().Y\n",
    "    d3=d3.reset_index(drop=True)\n",
    "    \n",
    "    if len(justmiss.index) > 0:\n",
    "        d4 = pd.DataFrame({'MIN_VALUE':np.nan},index=[0])\n",
    "        d4[\"MAX_VALUE\"] = np.nan\n",
    "        d4[\"COUNT\"] = justmiss.count().Y\n",
    "        d4[\"EVENT\"] = justmiss.sum().Y\n",
    "        d4[\"NONEVENT\"] = justmiss.count().Y - justmiss.sum().Y\n",
    "        d3 = d3.append(d4,ignore_index=True)\n",
    "    \n",
    "    d3[\"EVENT_RATE\"] = d3.EVENT/d3.COUNT\n",
    "    d3[\"NON_EVENT_RATE\"] = d3.NONEVENT/d3.COUNT\n",
    "    d3[\"DIST_EVENT\"] = d3.EVENT/d3.sum().EVENT\n",
    "    d3[\"DIST_NON_EVENT\"] = d3.NONEVENT/d3.sum().NONEVENT\n",
    "    d3[\"WOE\"] = np.log(d3.DIST_EVENT/d3.DIST_NON_EVENT)\n",
    "    d3[\"IV\"] = (d3.DIST_EVENT-d3.DIST_NON_EVENT)*np.log(d3.DIST_EVENT/d3.DIST_NON_EVENT)\n",
    "    d3[\"VAR_NAME\"] = \"VAR\"\n",
    "    d3 = d3[['VAR_NAME','MIN_VALUE', 'MAX_VALUE', 'COUNT', 'EVENT', 'EVENT_RATE', 'NONEVENT', 'NON_EVENT_RATE', 'DIST_EVENT','DIST_NON_EVENT','WOE', 'IV']]       \n",
    "    d3 = d3.replace([np.inf, -np.inf], 0)\n",
    "    d3.IV = d3.IV.sum()\n",
    "    \n",
    "    return(d3)\n",
    "\n",
    "# Bining for character variables\n",
    "def char_bin(Y, X):\n",
    "        \n",
    "    df1 = pd.DataFrame({\"X\": X, \"Y\": Y})\n",
    "    justmiss = df1[['X','Y']][df1.X.isnull()]\n",
    "    notmiss = df1[['X','Y']][df1.X.notnull()]    \n",
    "    df2 = notmiss.groupby('X',as_index=True)\n",
    "    \n",
    "    d3 = pd.DataFrame({},index=[])\n",
    "    d3[\"COUNT\"] = df2.count().Y\n",
    "    d3[\"MIN_VALUE\"] = df2.sum().Y.index\n",
    "    d3[\"MAX_VALUE\"] = d3[\"MIN_VALUE\"]\n",
    "    d3[\"EVENT\"] = df2.sum().Y\n",
    "    d3[\"NONEVENT\"] = df2.count().Y - df2.sum().Y\n",
    "    \n",
    "    if len(justmiss.index) > 0:\n",
    "        d4 = pd.DataFrame({'MIN_VALUE':np.nan},index=[0])\n",
    "        d4[\"MAX_VALUE\"] = np.nan\n",
    "        d4[\"COUNT\"] = justmiss.count().Y\n",
    "        d4[\"EVENT\"] = justmiss.sum().Y\n",
    "        d4[\"NONEVENT\"] = justmiss.count().Y - justmiss.sum().Y\n",
    "        d3 = d3.append(d4,ignore_index=True)\n",
    "    \n",
    "    d3[\"EVENT_RATE\"] = d3.EVENT/d3.COUNT\n",
    "    d3[\"NON_EVENT_RATE\"] = d3.NONEVENT/d3.COUNT\n",
    "    d3[\"DIST_EVENT\"] = d3.EVENT/d3.sum().EVENT\n",
    "    d3[\"DIST_NON_EVENT\"] = d3.NONEVENT/d3.sum().NONEVENT\n",
    "    d3[\"WOE\"] = np.log(d3.DIST_EVENT/d3.DIST_NON_EVENT)\n",
    "    d3[\"IV\"] = (d3.DIST_EVENT-d3.DIST_NON_EVENT)*np.log(d3.DIST_EVENT/d3.DIST_NON_EVENT)\n",
    "    d3[\"VAR_NAME\"] = \"VAR\"\n",
    "    d3 = d3[['VAR_NAME','MIN_VALUE', 'MAX_VALUE', 'COUNT', 'EVENT', 'EVENT_RATE', 'NONEVENT', 'NON_EVENT_RATE', 'DIST_EVENT','DIST_NON_EVENT','WOE', 'IV']]      \n",
    "    d3 = d3.replace([np.inf, -np.inf], 0)\n",
    "    d3.IV = d3.IV.sum()\n",
    "    d3 = d3.reset_index(drop=True)\n",
    "    \n",
    "    return(d3)\n",
    "\n",
    "def data_vars(df1, target):\n",
    "    \n",
    "    stack = traceback.extract_stack()\n",
    "    filename, lineno, function_name, code = stack[-2]\n",
    "    vars_name = re.compile(r'\\((.*?)\\).*$').search(code).groups()[0]\n",
    "    final = (re.findall(r\"[\\w']+\", vars_name))[-1]\n",
    "    \n",
    "    x = df1.dtypes.index\n",
    "    count = -1\n",
    "    \n",
    "    for i in x:\n",
    "        if i.upper() not in (final.upper()):\n",
    "            if np.issubdtype(df1[i], np.number) and len(Series.unique(df1[i])) > 2:\n",
    "                conv = mono_bin(target, df1[i])\n",
    "                conv[\"VAR_NAME\"] = i\n",
    "                count = count + 1\n",
    "            else:\n",
    "                conv = char_bin(target, df1[i])\n",
    "                conv[\"VAR_NAME\"] = i            \n",
    "                count = count + 1\n",
    "                \n",
    "            if count == 0:\n",
    "                iv_df = conv\n",
    "            else:\n",
    "                iv_df = iv_df.append(conv,ignore_index=True)\n",
    "    \n",
    "    iv = pd.DataFrame({'IV':iv_df.groupby('VAR_NAME').IV.max()})\n",
    "    iv = iv.reset_index()\n",
    "    return(iv_df,iv)"
   ]
  },
  {
   "cell_type": "code",
   "execution_count": 3,
   "metadata": {},
   "outputs": [],
   "source": [
    "final_iv, IV = data_vars(df, df.status)"
   ]
  },
  {
   "cell_type": "code",
   "execution_count": 4,
   "metadata": {},
   "outputs": [
    {
     "data": {
      "text/html": [
       "<div>\n",
       "<style scoped>\n",
       "    .dataframe tbody tr th:only-of-type {\n",
       "        vertical-align: middle;\n",
       "    }\n",
       "\n",
       "    .dataframe tbody tr th {\n",
       "        vertical-align: top;\n",
       "    }\n",
       "\n",
       "    .dataframe thead th {\n",
       "        text-align: right;\n",
       "    }\n",
       "</style>\n",
       "<table border=\"1\" class=\"dataframe\">\n",
       "  <thead>\n",
       "    <tr style=\"text-align: right;\">\n",
       "      <th></th>\n",
       "      <th>VAR_NAME</th>\n",
       "      <th>IV</th>\n",
       "    </tr>\n",
       "  </thead>\n",
       "  <tbody>\n",
       "    <tr>\n",
       "      <th>55</th>\n",
       "      <td>number_of_trans_from_2011</td>\n",
       "      <td>0.010676</td>\n",
       "    </tr>\n",
       "    <tr>\n",
       "      <th>37</th>\n",
       "      <td>loans_count</td>\n",
       "      <td>0.011276</td>\n",
       "    </tr>\n",
       "    <tr>\n",
       "      <th>57</th>\n",
       "      <td>pawns_auctions_trusts_consume_last_6_month</td>\n",
       "      <td>0.011513</td>\n",
       "    </tr>\n",
       "    <tr>\n",
       "      <th>58</th>\n",
       "      <td>query_cash_count</td>\n",
       "      <td>0.014679</td>\n",
       "    </tr>\n",
       "    <tr>\n",
       "      <th>76</th>\n",
       "      <td>trans_days_interval</td>\n",
       "      <td>0.016214</td>\n",
       "    </tr>\n",
       "    <tr>\n",
       "      <th>32</th>\n",
       "      <td>latest_six_month_loan</td>\n",
       "      <td>0.023098</td>\n",
       "    </tr>\n",
       "    <tr>\n",
       "      <th>9</th>\n",
       "      <td>consfin_max_limit</td>\n",
       "      <td>0.023166</td>\n",
       "    </tr>\n",
       "    <tr>\n",
       "      <th>5</th>\n",
       "      <td>avg_price_top_last_12_valid_month</td>\n",
       "      <td>0.027039</td>\n",
       "    </tr>\n",
       "    <tr>\n",
       "      <th>4</th>\n",
       "      <td>avg_price_last_12_month</td>\n",
       "      <td>0.027648</td>\n",
       "    </tr>\n",
       "    <tr>\n",
       "      <th>8</th>\n",
       "      <td>consfin_credit_limit</td>\n",
       "      <td>0.031105</td>\n",
       "    </tr>\n",
       "    <tr>\n",
       "      <th>29</th>\n",
       "      <td>latest_query_day</td>\n",
       "      <td>0.032274</td>\n",
       "    </tr>\n",
       "    <tr>\n",
       "      <th>73</th>\n",
       "      <td>trans_amount_3_month</td>\n",
       "      <td>0.037428</td>\n",
       "    </tr>\n",
       "    <tr>\n",
       "      <th>6</th>\n",
       "      <td>consfin_avg_limit</td>\n",
       "      <td>0.039305</td>\n",
       "    </tr>\n",
       "    <tr>\n",
       "      <th>56</th>\n",
       "      <td>pawns_auctions_trusts_consume_last_1_month</td>\n",
       "      <td>0.039686</td>\n",
       "    </tr>\n",
       "    <tr>\n",
       "      <th>13</th>\n",
       "      <td>consume_mini_time_last_1_month</td>\n",
       "      <td>0.040598</td>\n",
       "    </tr>\n",
       "    <tr>\n",
       "      <th>70</th>\n",
       "      <td>top_trans_count_last_1_month</td>\n",
       "      <td>0.069761</td>\n",
       "    </tr>\n",
       "    <tr>\n",
       "      <th>75</th>\n",
       "      <td>trans_day_last_12_month</td>\n",
       "      <td>0.078664</td>\n",
       "    </tr>\n",
       "    <tr>\n",
       "      <th>53</th>\n",
       "      <td>max_cumulative_consume_later_1_month</td>\n",
       "      <td>0.088109</td>\n",
       "    </tr>\n",
       "    <tr>\n",
       "      <th>28</th>\n",
       "      <td>latest_one_month_suc</td>\n",
       "      <td>0.098302</td>\n",
       "    </tr>\n",
       "    <tr>\n",
       "      <th>63</th>\n",
       "      <td>rank_trad_1_month</td>\n",
       "      <td>0.111534</td>\n",
       "    </tr>\n",
       "    <tr>\n",
       "      <th>42</th>\n",
       "      <td>loans_latest_time</td>\n",
       "      <td>0.180554</td>\n",
       "    </tr>\n",
       "    <tr>\n",
       "      <th>26</th>\n",
       "      <td>latest_one_month_fail</td>\n",
       "      <td>0.182116</td>\n",
       "    </tr>\n",
       "    <tr>\n",
       "      <th>78</th>\n",
       "      <td>trans_fail_top_count_enum_last_12_month</td>\n",
       "      <td>0.187664</td>\n",
       "    </tr>\n",
       "    <tr>\n",
       "      <th>30</th>\n",
       "      <td>latest_query_time</td>\n",
       "      <td>0.194805</td>\n",
       "    </tr>\n",
       "    <tr>\n",
       "      <th>80</th>\n",
       "      <td>trans_fail_top_count_enum_last_6_month</td>\n",
       "      <td>0.228066</td>\n",
       "    </tr>\n",
       "    <tr>\n",
       "      <th>47</th>\n",
       "      <td>loans_overdue_count</td>\n",
       "      <td>0.250163</td>\n",
       "    </tr>\n",
       "    <tr>\n",
       "      <th>2</th>\n",
       "      <td>apply_score</td>\n",
       "      <td>0.316656</td>\n",
       "    </tr>\n",
       "    <tr>\n",
       "      <th>49</th>\n",
       "      <td>loans_score</td>\n",
       "      <td>0.384723</td>\n",
       "    </tr>\n",
       "    <tr>\n",
       "      <th>21</th>\n",
       "      <td>history_fail_fee</td>\n",
       "      <td>0.413100</td>\n",
       "    </tr>\n",
       "    <tr>\n",
       "      <th>79</th>\n",
       "      <td>trans_fail_top_count_enum_last_1_month</td>\n",
       "      <td>0.516893</td>\n",
       "    </tr>\n",
       "  </tbody>\n",
       "</table>\n",
       "</div>"
      ],
      "text/plain": [
       "                                      VAR_NAME        IV\n",
       "55                   number_of_trans_from_2011  0.010676\n",
       "37                                 loans_count  0.011276\n",
       "57  pawns_auctions_trusts_consume_last_6_month  0.011513\n",
       "58                            query_cash_count  0.014679\n",
       "76                         trans_days_interval  0.016214\n",
       "32                       latest_six_month_loan  0.023098\n",
       "9                            consfin_max_limit  0.023166\n",
       "5            avg_price_top_last_12_valid_month  0.027039\n",
       "4                      avg_price_last_12_month  0.027648\n",
       "8                         consfin_credit_limit  0.031105\n",
       "29                            latest_query_day  0.032274\n",
       "73                        trans_amount_3_month  0.037428\n",
       "6                            consfin_avg_limit  0.039305\n",
       "56  pawns_auctions_trusts_consume_last_1_month  0.039686\n",
       "13              consume_mini_time_last_1_month  0.040598\n",
       "70                top_trans_count_last_1_month  0.069761\n",
       "75                     trans_day_last_12_month  0.078664\n",
       "53        max_cumulative_consume_later_1_month  0.088109\n",
       "28                        latest_one_month_suc  0.098302\n",
       "63                           rank_trad_1_month  0.111534\n",
       "42                           loans_latest_time  0.180554\n",
       "26                       latest_one_month_fail  0.182116\n",
       "78     trans_fail_top_count_enum_last_12_month  0.187664\n",
       "30                           latest_query_time  0.194805\n",
       "80      trans_fail_top_count_enum_last_6_month  0.228066\n",
       "47                         loans_overdue_count  0.250163\n",
       "2                                  apply_score  0.316656\n",
       "49                                 loans_score  0.384723\n",
       "21                            history_fail_fee  0.413100\n",
       "79      trans_fail_top_count_enum_last_1_month  0.516893"
      ]
     },
     "execution_count": 4,
     "metadata": {},
     "output_type": "execute_result"
    }
   ],
   "source": [
    "IV.sort_values('IV').tail(30)"
   ]
  },
  {
   "cell_type": "markdown",
   "metadata": {},
   "source": [
    "#### Random Forest 随机森林"
   ]
  },
  {
   "cell_type": "code",
   "execution_count": 5,
   "metadata": {},
   "outputs": [],
   "source": [
    "# Ref:\n",
    "# https://www.datascience.com/resources/notebooks/random-forest-intro\n",
    "\n",
    "from sklearn.model_selection import train_test_split, GridSearchCV\n",
    "from sklearn.ensemble import RandomForestClassifier\n",
    "\n",
    "df = df.drop(['latest_query_time', 'loans_latest_time', 'source'],axis = 1)\n",
    "training_set = df.iloc[:, df.columns != 'status']\n",
    "class_set = df.iloc[:, df.columns == 'status']\n",
    "\n",
    "class_set = class_set.values.ravel()\n",
    "fit_rf = RandomForestClassifier(random_state=2018)"
   ]
  },
  {
   "cell_type": "code",
   "execution_count": 6,
   "metadata": {},
   "outputs": [
    {
     "data": {
      "text/plain": [
       "RandomForestClassifier(bootstrap=True, class_weight=None, criterion='gini',\n",
       "                       max_depth=3, max_features='log2', max_leaf_nodes=None,\n",
       "                       min_impurity_decrease=0.0, min_impurity_split=None,\n",
       "                       min_samples_leaf=1, min_samples_split=2,\n",
       "                       min_weight_fraction_leaf=0.0, n_estimators=400,\n",
       "                       n_jobs=None, oob_score=False, random_state=2018,\n",
       "                       verbose=0, warm_start=False)"
      ]
     },
     "execution_count": 6,
     "metadata": {},
     "output_type": "execute_result"
    }
   ],
   "source": [
    "# TO-DO: Hyperparameter tuning - GridSearchCV\n",
    "fit_rf.set_params(criterion = 'gini',\n",
    "                  max_features = 'log2',\n",
    "                  max_depth = 3,\n",
    "                  n_estimators=400,\n",
    "                  bootstrap = True,\n",
    "                  warm_start=False,\n",
    "                  oob_score=False)\n"
   ]
  },
  {
   "cell_type": "code",
   "execution_count": 7,
   "metadata": {},
   "outputs": [
    {
     "data": {
      "text/plain": [
       "RandomForestClassifier(bootstrap=True, class_weight=None, criterion='gini',\n",
       "                       max_depth=3, max_features='log2', max_leaf_nodes=None,\n",
       "                       min_impurity_decrease=0.0, min_impurity_split=None,\n",
       "                       min_samples_leaf=1, min_samples_split=2,\n",
       "                       min_weight_fraction_leaf=0.0, n_estimators=400,\n",
       "                       n_jobs=None, oob_score=False, random_state=2018,\n",
       "                       verbose=0, warm_start=False)"
      ]
     },
     "execution_count": 7,
     "metadata": {},
     "output_type": "execute_result"
    }
   ],
   "source": [
    "#training_set.info()\n",
    "fit_rf.fit(training_set, class_set)"
   ]
  },
  {
   "cell_type": "code",
   "execution_count": 8,
   "metadata": {},
   "outputs": [
    {
     "name": "stdout",
     "output_type": "stream",
     "text": [
      "(81,)\n",
      "(81,)\n",
      "Index(['trans_fail_top_count_enum_last_1_month', 'history_fail_fee',\n",
      "       'latest_one_month_fail', 'loans_score', 'loans_overdue_count',\n",
      "       'apply_score', 'trans_fail_top_count_enum_last_6_month',\n",
      "       'trans_fail_top_count_enum_last_12_month',\n",
      "       'max_cumulative_consume_later_1_month', 'latest_one_month_suc',\n",
      "       'trans_day_last_12_month', 'rank_trad_1_month',\n",
      "       'trans_top_time_last_1_month', 'consume_top_time_last_1_month',\n",
      "       'top_trans_count_last_1_month', 'trans_amount_3_month',\n",
      "       'pawns_auctions_trusts_consume_last_1_month', 'consfin_avg_limit',\n",
      "       'latest_three_month_loan', 'latest_six_month_loan'],\n",
      "      dtype='object')\n"
     ]
    }
   ],
   "source": [
    "# Feature importance analysis\n",
    "importances_rf = fit_rf.feature_importances_\n",
    "indices_rf = np.argsort(importances_rf)[::-1]\n",
    "\n",
    "print(importances_rf.shape)\n",
    "print(indices_rf.shape)\n",
    "\n",
    "data = training_set.iloc[:, indices_rf[:20]]\n",
    "print(data.columns)"
   ]
  },
  {
   "cell_type": "code",
   "execution_count": 9,
   "metadata": {},
   "outputs": [
    {
     "name": "stdout",
     "output_type": "stream",
     "text": [
      "Feature ranking:\n",
      "1. 'trans_fail_top_count_enum_last_1_month' = 0.136736\n",
      "2. 'history_fail_fee' = 0.112108\n",
      "3. 'latest_one_month_fail' = 0.094983\n",
      "4. 'loans_score' = 0.088020\n",
      "5. 'loans_overdue_count' = 0.082050\n",
      "6. 'apply_score' = 0.069800\n",
      "7. 'trans_fail_top_count_enum_last_6_month' = 0.053599\n",
      "8. 'trans_fail_top_count_enum_last_12_month' = 0.041363\n",
      "9. 'max_cumulative_consume_later_1_month' = 0.028066\n",
      "10. 'latest_one_month_suc' = 0.025413\n",
      "11. 'trans_day_last_12_month' = 0.020110\n",
      "12. 'rank_trad_1_month' = 0.019081\n",
      "13. 'trans_top_time_last_1_month' = 0.015889\n",
      "14. 'consume_top_time_last_1_month' = 0.014715\n",
      "15. 'top_trans_count_last_1_month' = 0.014606\n",
      "16. 'trans_amount_3_month' = 0.010167\n",
      "17. 'pawns_auctions_trusts_consume_last_1_month' = 0.009897\n",
      "18. 'consfin_avg_limit' = 0.009358\n",
      "19. 'latest_three_month_loan' = 0.008533\n",
      "20. 'latest_six_month_loan' = 0.008432\n",
      "21. 'avg_price_last_12_month' = 0.007969\n",
      "22. 'historical_trans_amount' = 0.006453\n",
      "23. 'consume_mini_time_last_1_month' = 0.006425\n",
      "24. 'loans_count' = 0.006265\n",
      "25. 'consfin_credit_limit' = 0.005636\n",
      "26. 'history_suc_fee' = 0.004888\n",
      "27. 'latest_query_day' = 0.004730\n",
      "28. 'pawns_auctions_trusts_consume_last_6_month' = 0.004620\n",
      "29. 'consfin_max_limit' = 0.004610\n",
      "30. 'loans_settle_count' = 0.004345\n",
      "31. 'trans_activity_day' = 0.004182\n",
      "32. 'trans_days_interval_filter' = 0.003395\n",
      "33. 'historical_trans_day' = 0.003075\n",
      "34. 'loans_latest_day' = 0.002962\n",
      "35. 'trans_days_interval' = 0.002871\n",
      "36. 'low_volume_percent' = 0.002695\n",
      "37. 'avg_price_top_last_12_valid_month' = 0.002590\n",
      "38. 'loans_product_count' = 0.002543\n",
      "39. 'first_transaction_time' = 0.002468\n",
      "40. 'consfin_org_count_behavior' = 0.002452\n",
      "41. 'query_sum_count' = 0.002392\n",
      "42. 'loans_org_count_behavior' = 0.002377\n",
      "43. 'number_of_trans_from_2011' = 0.002338\n",
      "44. 'consume_top_time_last_6_month' = 0.002259\n",
      "45. 'trans_top_time_last_6_month' = 0.002225\n",
      "46. 'latest_one_month_loan' = 0.002134\n",
      "47. 'loans_cash_count' = 0.002123\n",
      "48. 'max_consume_count_later_6_month' = 0.001986\n",
      "49. 'repayment_capability' = 0.001751\n",
      "50. 'query_cash_count' = 0.001678\n",
      "51. 'consfin_product_count' = 0.001660\n",
      "52. 'transd_mcc' = 0.001651\n",
      "53. 'loans_org_count_current' = 0.001640\n",
      "54. 'first_transaction_day' = 0.001589\n",
      "55. 'consfin_org_count_current' = 0.001583\n",
      "56. 'query_org_count' = 0.001558\n",
      "57. 'latest_six_month_apply' = 0.001548\n",
      "58. 'middle_volume_percent' = 0.001532\n",
      "59. 'latest_three_month_apply' = 0.001522\n",
      "60. 'latest_one_month_apply' = 0.001491\n",
      "61. 'loans_max_limit' = 0.001475\n",
      "62. 'trans_activity_month' = 0.001371\n",
      "63. 'loans_avg_limit' = 0.001298\n",
      "64. 'trans_amount_increase_rate_lately' = 0.001289\n",
      "65. 'loans_long_time' = 0.001209\n",
      "66. 'loans_credibility_behavior' = 0.001069\n",
      "67. 'query_finance_count' = 0.001055\n",
      "68. 'apply_credibility' = 0.000945\n",
      "69. 'abs' = 0.000780\n",
      "70. 'take_amount_in_later_12_month_highest' = 0.000723\n",
      "71. 'cross_consume_count_last_1_month' = 0.000709\n",
      "72. 'consfin_credibility' = 0.000617\n",
      "73. 'loans_credibility_limit' = 0.000499\n",
      "74. 'avg_consume_less_12_valid_month' = 0.000492\n",
      "75. 'loans_credit_limit' = 0.000485\n",
      "76. 'railway_consume_count_last_12_month' = 0.000219\n",
      "77. 'reg_preference_for_trad' = 0.000215\n",
      "78. 'student_feature' = 0.000135\n",
      "79. 'jewelry_consume_count_last_6_month' = 0.000124\n",
      "80. 'regional_mobility' = 0.000111\n",
      "81. 'is_high_user' = 0.000041\n"
     ]
    }
   ],
   "source": [
    "def variable_importance(importance, indices):\n",
    "    print(\"Feature ranking:\")\n",
    "\n",
    "    for f in range(len(training_set.columns)):\n",
    "        i = f\n",
    "        print(\"%d. '%s' = %f\" %\\\n",
    "             (f + 1, training_set.columns[indices[i]], importance[indices[f]]))\n",
    "        \n",
    "variable_importance(importances_rf, indices_rf)"
   ]
  },
  {
   "cell_type": "code",
   "execution_count": 10,
   "metadata": {},
   "outputs": [],
   "source": [
    "import matplotlib.pyplot as plt\n",
    "\n",
    "def variable_importance_plot(importance, indices):\n",
    "    \n",
    "    index = np.arange(len(training_set.columns))\n",
    "\n",
    "    importance_desc = sorted(importance)\n",
    "    feature_space = []\n",
    "    for i in range(80, -1, -1):\n",
    "        feature_space.append(training_set.columns[indices[i]])\n",
    "\n",
    "    fig, ax = plt.subplots(figsize=(10, 10))\n",
    "\n",
    "    ax.set_facecolor('#fafafa')\n",
    "    plt.title('Feature importances for Random Forest Model')\n",
    "    plt.barh(index, importance_desc, align=\"center\", color = '#875FDB')\n",
    "    plt.yticks(index, feature_space)\n",
    "\n",
    "    plt.ylim(50.5, 80.5)\n",
    "    plt.xlim(0, max(importance_desc))\n",
    "    plt.xlabel('Mean Decrease in Gini')\n",
    "    plt.ylabel('Feature')\n",
    "\n",
    "    plt.show()\n",
    "    plt.close()"
   ]
  },
  {
   "cell_type": "code",
   "execution_count": 11,
   "metadata": {},
   "outputs": [
    {
     "data": {
      "image/png": "[encoded data removed]",
      "text/plain": [
       "<Figure size 720x720 with 1 Axes>"
      ]
     },
     "metadata": {
      "needs_background": "light"
     },
     "output_type": "display_data"
    }
   ],
   "source": [
    "variable_importance_plot(importances_rf, indices_rf)"
   ]
  },
  {
   "cell_type": "markdown",
   "metadata": {},
   "source": [
    "## Task 3 & 4 - 建模 + 评估\n",
    "## Task 5 - GridSearchCV"
   ]
  },
  {
   "cell_type": "code",
   "execution_count": 12,
   "metadata": {},
   "outputs": [
    {
     "data": {
      "text/plain": [
       "(4754, 20)"
      ]
     },
     "execution_count": 12,
     "metadata": {},
     "output_type": "execute_result"
    }
   ],
   "source": [
    "data.shape"
   ]
  },
  {
   "cell_type": "code",
   "execution_count": 13,
   "metadata": {},
   "outputs": [],
   "source": [
    "import imblearn\n",
    "from imblearn.over_sampling import SMOTE\n",
    "sm = SMOTE(random_state=420)\n",
    "X, class_set = sm.fit_sample(data, class_set)\n",
    "\n",
    "from sklearn.preprocessing import StandardScaler\n",
    "X = StandardScaler().fit_transform(X)"
   ]
  },
  {
   "cell_type": "code",
   "execution_count": 14,
   "metadata": {},
   "outputs": [],
   "source": [
    "from sklearn.model_selection import train_test_split\n",
    "X_train,X_test,y_train,y_test = train_test_split(X, class_set, test_size=0.3, random_state=2018)"
   ]
  },
  {
   "cell_type": "markdown",
   "metadata": {},
   "source": [
    "### Logistic Regression"
   ]
  },
  {
   "cell_type": "code",
   "execution_count": 15,
   "metadata": {},
   "outputs": [
    {
     "name": "stdout",
     "output_type": "stream",
     "text": [
      "Accuracy: 0.7468, Precision: 0.7786, Recall: 0.6855, F1-score: 0.7291, AUC_Bin: 0.7465, AUC_Prob: 0.8253\n"
     ]
    },
    {
     "data": {
      "image/png": "[encoded data removed]",
      "text/plain": [
       "<Figure size 432x288 with 1 Axes>"
      ]
     },
     "metadata": {
      "needs_background": "light"
     },
     "output_type": "display_data"
    },
    {
     "name": "stdout",
     "output_type": "stream",
     "text": [
      "Best parameters set found: {'C': 5, 'multi_class': 'ovr', 'penalty': 'l1', 'solver': 'liblinear'}\n",
      "              precision    recall  f1-score   support\n",
      "\n",
      "           0       0.72      0.81      0.76      1075\n",
      "           1       0.78      0.69      0.73      1062\n",
      "\n",
      "    accuracy                           0.75      2137\n",
      "   macro avg       0.75      0.75      0.75      2137\n",
      "weighted avg       0.75      0.75      0.75      2137\n",
      "\n",
      "[[868 207]\n",
      " [334 728]]\n"
     ]
    }
   ],
   "source": [
    "import matplotlib.pyplot as plt\n",
    "from sklearn import metrics\n",
    "from sklearn.metrics import classification_report\n",
    "from sklearn.linear_model import LogisticRegression as LR\n",
    "\n",
    "lr = LR().fit(X_train, y_train)\n",
    "y_test_pred = lr.predict(X_test)\n",
    "acc = metrics.accuracy_score(y_test,y_test_pred)\n",
    "precision = metrics.precision_score(y_test,y_test_pred)\n",
    "recall = metrics.recall_score(y_test,y_test_pred)\n",
    "f1 = metrics.f1_score(y_test,y_test_pred)\n",
    "auc= metrics.roc_auc_score(y_test,y_test_pred)\n",
    "\n",
    "probs = lr.predict_proba(X_test)\n",
    "preds = probs[:,1]\n",
    "fpr_lr, tpr_lr, _ = metrics.roc_curve(y_test, preds)\n",
    "roc_auc_lr = metrics.auc(fpr_lr, tpr_lr)\n",
    "\n",
    "print('Accuracy: {:.4f}, Precision: {:.4f}, Recall: {:.4f}, F1-score: {:.4f}, AUC_Bin: {:.4f}, AUC_Prob: {:.4f}'.format(acc,precision,recall,f1,auc, roc_auc_lr))\n",
    "\n",
    "plt.title('Receiver Operating Characteristic')\n",
    "plt.plot(fpr_lr, tpr_lr, 'b', label = 'AUC = %0.2f' % roc_auc_lr)\n",
    "plt.legend(loc = 'lower right')\n",
    "plt.plot([0, 1], [0, 1],'r--')\n",
    "plt.xlim([0, 1])\n",
    "plt.ylim([0, 1.05])\n",
    "plt.ylabel('True Positive Rate')\n",
    "plt.xlabel('False Positive Rate')\n",
    "plt.show()\n",
    "\n",
    "\n",
    "tuned_param = [{'penalty':['l1','l2'],\n",
    "                'C':[0.01,0.05,0.1,0.5,1,5,10,50,100],\n",
    "                'solver':['liblinear'],\n",
    "                'multi_class':['ovr']},\n",
    "               {'penalty':['l2'],\n",
    "                'C':[0.01,0.05,0.1,0.5,1,5,10,50,100],\n",
    "                'solver':['lbfgs'],\n",
    "                'multi_class':['ovr','multinomial']}]\n",
    "\n",
    "clf = GridSearchCV(lr, tuned_param, cv=5)\n",
    "clf.fit(X_train, y_train)\n",
    "print('Best parameters set found:', clf.best_params_)\n",
    "\n",
    "y_test_pred = clf.predict(X_test)\n",
    "print(classification_report(y_test, y_test_pred))\n",
    "print(metrics.confusion_matrix(y_test, y_test_pred))"
   ]
  },
  {
   "cell_type": "markdown",
   "metadata": {},
   "source": [
    "### SVM"
   ]
  },
  {
   "cell_type": "code",
   "execution_count": null,
   "metadata": {},
   "outputs": [],
   "source": [
    "from sklearn.svm import SVC\n",
    "\n",
    "svc = SVC(kernel='rbf',gamma='auto',cache_size=5000, probability=True).fit(X_train, y_train)\n",
    "#svc.score(X_test, y_test)\n",
    "\n",
    "y_test_pred = svc.predict(X_test)\n",
    "acc = metrics.accuracy_score(y_test,y_test_pred)\n",
    "precision = metrics.precision_score(y_test,y_test_pred)\n",
    "recall = metrics.recall_score(y_test,y_test_pred)\n",
    "f1 = metrics.f1_score(y_test,y_test_pred)\n",
    "auc= metrics.roc_auc_score(y_test,y_test_pred)\n",
    "\n",
    "probs = svc.predict_proba(X_test)\n",
    "preds = probs[:,1]\n",
    "fpr_svc, tpr_svc, _ = metrics.roc_curve(y_test, preds)\n",
    "roc_auc_svc = metrics.auc(fpr_svc, tpr_svc)\n",
    "\n",
    "print('Accuracy: {:.4f}, Precision: {:.4f}, Recall: {:.4f}, F1-score: {:.4f}, AUC_Bin: {:.4f}, AUC_Prob: {:.4f}'.format(acc,precision,recall,f1,auc, roc_auc_svc))\n",
    "\n",
    "plt.title('Receiver Operating Characteristic')\n",
    "plt.plot(fpr_svc, tpr_svc, 'g', label = 'AUC = %0.2f' % roc_auc_svc)\n",
    "plt.legend(loc = 'lower right')\n",
    "plt.plot([0, 1], [0, 1],'r--')\n",
    "plt.xlim([0, 1])\n",
    "plt.ylim([0, 1.05])\n",
    "plt.ylabel('True Positive Rate')\n",
    "plt.xlabel('False Positive Rate')\n",
    "plt.show()\n",
    "\n",
    "\n",
    "tuned_param = [{'kernel': ['rbf'], \n",
    "                'gamma': [1e-3, 1e-4],\n",
    "                'C': [1, 10, 100]},\n",
    "               {'kernel': ['linear'], \n",
    "                'C': [1, 10, 100]}]\n",
    "\n",
    "clf = GridSearchCV(svc, tuned_param, cv=5)\n",
    "clf.fit(X_train, y_train)\n",
    "print('Best parameters set found:', clf.best_params_)\n",
    "\n",
    "y_test_pred = clf.predict(X_test)\n",
    "print(classification_report(y_test, y_test_pred))\n",
    "print(metrics.confusion_matrix(y_test, y_test_pred))"
   ]
  },
  {
   "cell_type": "markdown",
   "metadata": {},
   "source": [
    "### Decision Tree"
   ]
  },
  {
   "cell_type": "code",
   "execution_count": 18,
   "metadata": {},
   "outputs": [
    {
     "name": "stdout",
     "output_type": "stream",
     "text": [
      "Accuracy: 0.7730, Precision: 0.7630, Recall: 0.7881, F1-score: 0.7754, AUC_Bin: 0.7731, AUC_Prob: 0.7731\n"
     ]
    },
    {
     "data": {
      "image/png": "[encoded data removed]",
      "text/plain": [
       "<Figure size 432x288 with 1 Axes>"
      ]
     },
     "metadata": {
      "needs_background": "light"
     },
     "output_type": "display_data"
    },
    {
     "name": "stdout",
     "output_type": "stream",
     "text": [
      "Best parameters set found: {'max_depth': 7, 'min_samples_leaf': 1}\n",
      "              precision    recall  f1-score   support\n",
      "\n",
      "           0       0.77      0.83      0.80      1075\n",
      "           1       0.82      0.75      0.78      1062\n",
      "\n",
      "    accuracy                           0.79      2137\n",
      "   macro avg       0.80      0.79      0.79      2137\n",
      "weighted avg       0.79      0.79      0.79      2137\n",
      "\n",
      "[[897 178]\n",
      " [264 798]]\n"
     ]
    }
   ],
   "source": [
    "from sklearn.tree import DecisionTreeClassifier\n",
    "dtc = DecisionTreeClassifier().fit(X_train, y_train)\n",
    "\n",
    "y_test_pred = dtc.predict(X_test)\n",
    "acc = metrics.accuracy_score(y_test,y_test_pred)\n",
    "precision = metrics.precision_score(y_test,y_test_pred)\n",
    "recall = metrics.recall_score(y_test,y_test_pred)\n",
    "f1 = metrics.f1_score(y_test,y_test_pred)\n",
    "auc= metrics.roc_auc_score(y_test,y_test_pred)\n",
    "\n",
    "probs = dtc.predict_proba(X_test)\n",
    "preds = probs[:,1]\n",
    "fpr_dtc, tpr_dtc, _ = metrics.roc_curve(y_test, preds)\n",
    "roc_auc_dtc = metrics.auc(fpr_dtc, tpr_dtc)\n",
    "\n",
    "print('Accuracy: {:.4f}, Precision: {:.4f}, Recall: {:.4f}, F1-score: {:.4f}, AUC_Bin: {:.4f}, AUC_Prob: {:.4f}'.format(acc,precision,recall,f1,auc, roc_auc_dtc))\n",
    "\n",
    "plt.title('Receiver Operating Characteristic')\n",
    "plt.plot(fpr_dtc, tpr_dtc, 'orange', label = 'AUC = %0.2f' % roc_auc_dtc)\n",
    "plt.legend(loc = 'lower right')\n",
    "plt.plot([0, 1], [0, 1],'r--')\n",
    "plt.xlim([0, 1])\n",
    "plt.ylim([0, 1.05])\n",
    "plt.ylabel('True Positive Rate')\n",
    "plt.xlabel('False Positive Rate')\n",
    "plt.show()\n",
    "\n",
    "num_leafs = [1, 5, 10, 20, 50, 100]\n",
    "\n",
    "tuned_param = {'max_depth': np.arange(3, 10),\n",
    "               'min_samples_leaf': num_leafs}\n",
    "\n",
    "clf = GridSearchCV(dtc, tuned_param, cv=5)\n",
    "clf.fit(X_train, y_train)\n",
    "print('Best parameters set found:', clf.best_params_)\n",
    "\n",
    "y_test_pred = clf.predict(X_test)\n",
    "print(classification_report(y_test, y_test_pred))\n",
    "print(metrics.confusion_matrix(y_test, y_test_pred))"
   ]
  },
  {
   "cell_type": "markdown",
   "metadata": {},
   "source": [
    "### Random Forest"
   ]
  },
  {
   "cell_type": "code",
   "execution_count": 21,
   "metadata": {},
   "outputs": [
    {
     "name": "stdout",
     "output_type": "stream",
     "text": [
      "Accuracy: 0.8460, Precision: 0.8838, Recall: 0.7947, F1-score: 0.8369, AUC_Bin: 0.8457, AUC_Prob: 0.9061\n"
     ]
    },
    {
     "data": {
      "image/png": "[encoded data removed]",
      "text/plain": [
       "<Figure size 432x288 with 1 Axes>"
      ]
     },
     "metadata": {
      "needs_background": "light"
     },
     "output_type": "display_data"
    },
    {
     "name": "stdout",
     "output_type": "stream",
     "text": [
      "Best parameters set found: {'bootstrap': False, 'criterion': 'entropy', 'max_depth': None, 'max_features': 10, 'min_samples_split': 10}\n",
      "              precision    recall  f1-score   support\n",
      "\n",
      "           0       0.83      0.88      0.85      1075\n",
      "           1       0.87      0.82      0.84      1062\n",
      "\n",
      "    accuracy                           0.85      2137\n",
      "   macro avg       0.85      0.85      0.85      2137\n",
      "weighted avg       0.85      0.85      0.85      2137\n",
      "\n",
      "[[943 132]\n",
      " [192 870]]\n"
     ]
    }
   ],
   "source": [
    "from sklearn.ensemble import RandomForestClassifier\n",
    "rfc = RandomForestClassifier(n_estimators=10).fit(X_train, y_train)\n",
    "\n",
    "y_test_pred = rfc.predict(X_test)\n",
    "acc = metrics.accuracy_score(y_test,y_test_pred)\n",
    "precision = metrics.precision_score(y_test,y_test_pred)\n",
    "recall = metrics.recall_score(y_test,y_test_pred)\n",
    "f1 = metrics.f1_score(y_test,y_test_pred)\n",
    "auc= metrics.roc_auc_score(y_test,y_test_pred)\n",
    "\n",
    "probs = rfc.predict_proba(X_test)\n",
    "preds = probs[:,1]\n",
    "fpr_rfc, tpr_rfc, _ = metrics.roc_curve(y_test, preds)\n",
    "roc_auc_rfc = metrics.auc(fpr_rfc, tpr_rfc)\n",
    "\n",
    "print('Accuracy: {:.4f}, Precision: {:.4f}, Recall: {:.4f}, F1-score: {:.4f}, AUC_Bin: {:.4f}, AUC_Prob: {:.4f}'.format(acc,precision,recall,f1,auc, roc_auc_rfc))\n",
    "\n",
    "plt.title('Receiver Operating Characteristic')\n",
    "plt.plot(fpr_rfc, tpr_rfc, 'cyan', label = 'AUC = %0.2f' % roc_auc_rfc)\n",
    "plt.legend(loc = 'lower right')\n",
    "plt.plot([0, 1], [0, 1],'r--')\n",
    "plt.xlim([0, 1])\n",
    "plt.ylim([0, 1.05])\n",
    "plt.ylabel('True Positive Rate')\n",
    "plt.xlabel('False Positive Rate')\n",
    "plt.show()\n",
    "\n",
    "\n",
    "tuned_param = {\"max_depth\": [3, 7, None],\n",
    "              \"max_features\": [1, 3, 10, 20],\n",
    "              \"min_samples_split\": [2, 3, 10, 20],\n",
    "              \"bootstrap\": [True, False],\n",
    "              \"criterion\": [\"gini\", \"entropy\"]}\n",
    "\n",
    "clf = GridSearchCV(rfc, tuned_param, cv=5)\n",
    "clf.fit(X_train, y_train)\n",
    "print('Best parameters set found:', clf.best_params_)\n",
    "\n",
    "y_test_pred = clf.predict(X_test)\n",
    "print(classification_report(y_test, y_test_pred))\n",
    "print(metrics.confusion_matrix(y_test, y_test_pred))"
   ]
  },
  {
   "cell_type": "markdown",
   "metadata": {},
   "source": [
    "### XGBoost"
   ]
  },
  {
   "cell_type": "code",
   "execution_count": null,
   "metadata": {},
   "outputs": [],
   "source": [
    "from xgboost import XGBClassifier as XGBC\n",
    "xgb = XGBC().fit(X_train, y_train)\n",
    "\n",
    "y_test_pred = xgb.predict(X_test)\n",
    "acc = metrics.accuracy_score(y_test,y_test_pred)\n",
    "precision = metrics.precision_score(y_test,y_test_pred)\n",
    "recall = metrics.recall_score(y_test,y_test_pred)\n",
    "f1 = metrics.f1_score(y_test,y_test_pred)\n",
    "auc= metrics.roc_auc_score(y_test,y_test_pred)\n",
    "\n",
    "probs = xgb.predict_proba(X_test)\n",
    "preds = probs[:,1]\n",
    "fpr_xgb, tpr_xgb, _ = metrics.roc_curve(y_test, preds)\n",
    "roc_auc_xgb = metrics.auc(fpr_xgb, tpr_xgb)\n",
    "\n",
    "print('Accuracy: {:.4f}, Precision: {:.4f}, Recall: {:.4f}, F1-score: {:.4f}, AUC_Bin: {:.4f}, AUC_Prob: {:.4f}'.format(acc,precision,recall,f1,auc, roc_auc_xgb))\n",
    "\n",
    "plt.title('Receiver Operating Characteristic')\n",
    "plt.plot(fpr_xgb, tpr_xgb, 'deeppink', label = 'AUC = %0.2f' % roc_auc_xgb)\n",
    "plt.legend(loc = 'lower right')\n",
    "plt.plot([0, 1], [0, 1],'r--')\n",
    "plt.xlim([0, 1])\n",
    "plt.ylim([0, 1.05])\n",
    "plt.ylabel('True Positive Rate')\n",
    "plt.xlabel('False Positive Rate')\n",
    "plt.show()\n",
    "\n",
    "\n",
    "tuned_param = {\n",
    "              'max_depth': [5, 10, 15, 20, 25],\n",
    "              'learning_rate': [0.01, 0.02],\n",
    "              'n_estimators': [500, 1000],\n",
    "              'min_child_weight': [0, 2, 5, 10, 20],\n",
    "              'max_delta_step': [0, 0.2, 0.6, 1, 2],\n",
    "              'subsample': [0.6, 0.7, 0.8, 0.85, 0.95],\n",
    "              'colsample_bytree': [0.5, 0.6, 0.7, 0.8, 0.9],\n",
    "              'reg_alpha': [0, 0.25, 0.5, 0.75, 1],\n",
    "              'reg_lambda': [0.2, 0.4, 0.6, 0.8, 1],\n",
    "              'scale_pos_weight': [0.2, 0.4, 0.6, 0.8, 1]}\n",
    "\n",
    "clf = GridSearchCV(xgb, tuned_param, cv=5)\n",
    "clf.fit(X_train, y_train)\n",
    "print('Best parameters set found:', clf.best_params_)\n",
    "\n",
    "y_test_pred = clf.predict(X_test)\n",
    "print(classification_report(y_test, y_test_pred))\n",
    "print(metrics.confusion_matrix(y_test, y_test_pred))"
   ]
  },
  {
   "cell_type": "code",
   "execution_count": 23,
   "metadata": {
    "scrolled": true
   },
   "outputs": [
    {
     "data": {
      "image/png": "[encoded data removed]",
      "text/plain": [
       "<Figure size 720x576 with 1 Axes>"
      ]
     },
     "metadata": {
      "needs_background": "light"
     },
     "output_type": "display_data"
    }
   ],
   "source": [
    "plt.figure(figsize=(10,8))\n",
    "plt.title('Receiver Operating Characteristic')\n",
    "\n",
    "plt.plot(fpr_lr, tpr_lr, 'b', label = 'LR AUC = %0.2f' % roc_auc_lr)\n",
    "plt.plot(fpr_svc, tpr_svc, 'g', label = 'SVC AUC = %0.2f' % roc_auc_svc)\n",
    "plt.plot(fpr_dtc, tpr_dtc, 'orange', label = 'DT AUC = %0.2f' % roc_auc_dtc)\n",
    "plt.plot(fpr_rfc, tpr_rfc, 'cyan', label = 'RF AUC = %0.2f' % roc_auc_rfc)\n",
    "plt.plot(fpr_xgb, tpr_xgb, 'deeppink', label = 'XGB AUC = %0.2f' % roc_auc_xgb)\n",
    "\n",
    "plt.legend(loc = 'lower right')\n",
    "plt.plot([0, 1], [0, 1],'r--')\n",
    "plt.xlim([0, 1])\n",
    "plt.ylim([0, 1.05])\n",
    "plt.ylabel('True Positive Rate')\n",
    "plt.xlabel('False Positive Rate')\n",
    "\n",
    "plt.show()"
   ]
  },
  {
   "cell_type": "markdown",
   "metadata": {},
   "source": [
    "## Task 6 - Stacking"
   ]
  },
  {
   "cell_type": "code",
   "execution_count": 32,
   "metadata": {},
   "outputs": [
    {
     "name": "stdout",
     "output_type": "stream",
     "text": [
      "5-fold cross validation:\n",
      "\n",
      "Accuracy: 0.85 (+/- 0.01) [XGBoost]\n",
      "Accuracy: 0.84 (+/- 0.01) [Random Forest]\n",
      "Accuracy: 0.80 (+/- 0.01) [Decision Tree]\n",
      "Accuracy: 0.84 (+/- 0.01) [StackingClassifier]\n"
     ]
    }
   ],
   "source": [
    "from sklearn import model_selection\n",
    "from mlxtend.classifier import StackingClassifier\n",
    "import warnings\n",
    "\n",
    "warnings.simplefilter('ignore')\n",
    "\n",
    "clf1 = XGBC()\n",
    "clf2 = RandomForestClassifier(bootstrap=False, criterion='entropy', max_depth=None, max_features=10, min_samples_split=10)\n",
    "clf3 = DecisionTreeClassifier(max_depth=7, min_samples_leaf=1)\n",
    "lr = LR(C=5, multi_class='ovr', penalty='l1', solver='liblinear')\n",
    "\n",
    "sclf = StackingClassifier(classifiers=[clf1, clf2, clf3], \n",
    "                          meta_classifier=lr)\n",
    "\n",
    "print('5-fold cross validation:\\n')\n",
    "\n",
    "for clf, label in zip([clf1, clf2, clf3, sclf], \n",
    "                      ['XGBoost', \n",
    "                       'Random Forest', \n",
    "                       'Decision Tree',\n",
    "                       'StackingClassifier']):\n",
    "\n",
    "    scores = model_selection.cross_val_score(clf, X_train, y_train, \n",
    "                                              cv=5, scoring='accuracy')\n",
    "    print(\"Accuracy: %0.2f (+/- %0.2f) [%s]\" \n",
    "          % (scores.mean(), scores.std(), label))"
   ]
  }
 ],
 "metadata": {
  "kernelspec": {
   "display_name": "tensorflow_gpu",
   "language": "python",
   "name": "tensorflow_gpu"
  },
  "language_info": {
   "codemirror_mode": {
    "name": "ipython",
    "version": 3
   },
   "file_extension": ".py",
   "mimetype": "text/x-python",
   "name": "python",
   "nbconvert_exporter": "python",
   "pygments_lexer": "ipython3",
   "version": "3.6.8"
  }
 },
 "nbformat": 4,
 "nbformat_minor": 2
}
